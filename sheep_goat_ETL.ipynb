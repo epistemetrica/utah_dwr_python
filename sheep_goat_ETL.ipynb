{
 "cells": [
  {
   "cell_type": "markdown",
   "metadata": {},
   "source": [
    "# Bighorn Sheep and Goat ETL "
   ]
  },
  {
   "cell_type": "code",
   "execution_count": 1,
   "metadata": {},
   "outputs": [],
   "source": [
    "#import libraries\n",
    "import pandas as pd\n",
    "import numpy as np\n",
    "import re\n",
    "\n",
    "#import functions\n",
    "from functions import get_sample_id\n",
    "from functions import panda_stripper\n"
   ]
  },
  {
   "cell_type": "code",
   "execution_count": 2,
   "metadata": {},
   "outputs": [
    {
     "data": {
      "text/html": [
       "<div>\n",
       "<style scoped>\n",
       "    .dataframe tbody tr th:only-of-type {\n",
       "        vertical-align: middle;\n",
       "    }\n",
       "\n",
       "    .dataframe tbody tr th {\n",
       "        vertical-align: top;\n",
       "    }\n",
       "\n",
       "    .dataframe thead th {\n",
       "        text-align: right;\n",
       "    }\n",
       "</style>\n",
       "<table border=\"1\" class=\"dataframe\">\n",
       "  <thead>\n",
       "    <tr style=\"text-align: right;\">\n",
       "      <th></th>\n",
       "      <th>sample_id</th>\n",
       "      <th>collar_id</th>\n",
       "      <th>species</th>\n",
       "      <th>sex</th>\n",
       "      <th>capture_date</th>\n",
       "      <th>capture_unit</th>\n",
       "      <th>staging_area</th>\n",
       "      <th>comments</th>\n",
       "    </tr>\n",
       "  </thead>\n",
       "  <tbody>\n",
       "    <tr>\n",
       "      <th>0</th>\n",
       "      <td>SRS1101</td>\n",
       "      <td>50750.0</td>\n",
       "      <td>Bighorn Sheep</td>\n",
       "      <td>Female</td>\n",
       "      <td>2021-12-03</td>\n",
       "      <td>North San Rafael</td>\n",
       "      <td>Swinging Bridge</td>\n",
       "      <td>2 tonsillar swabs and 2 nasal swabs (SRS1101)</td>\n",
       "    </tr>\n",
       "    <tr>\n",
       "      <th>1</th>\n",
       "      <td>SRS1102</td>\n",
       "      <td>50744.0</td>\n",
       "      <td>Bighorn Sheep</td>\n",
       "      <td>Female</td>\n",
       "      <td>2021-12-04</td>\n",
       "      <td>North San Rafael</td>\n",
       "      <td>Swinging Bridge</td>\n",
       "      <td>2 tonsillar swabs and 2 nasal swabs (SRS1102)</td>\n",
       "    </tr>\n",
       "    <tr>\n",
       "      <th>2</th>\n",
       "      <td>SRS1103</td>\n",
       "      <td>50749.0</td>\n",
       "      <td>Bighorn Sheep</td>\n",
       "      <td>Female</td>\n",
       "      <td>2021-12-03</td>\n",
       "      <td>North San Rafael</td>\n",
       "      <td>Swinging Bridge</td>\n",
       "      <td>Short blood, veins flat, worried about heat. 2...</td>\n",
       "    </tr>\n",
       "    <tr>\n",
       "      <th>3</th>\n",
       "      <td>SRS1104</td>\n",
       "      <td>50758.0</td>\n",
       "      <td>Bighorn Sheep</td>\n",
       "      <td>Female</td>\n",
       "      <td>2021-12-04</td>\n",
       "      <td>North San Rafael</td>\n",
       "      <td>Swinging Bridge</td>\n",
       "      <td>2 tonsillar swabs and 2 nasal swabs (SRS1104)</td>\n",
       "    </tr>\n",
       "    <tr>\n",
       "      <th>4</th>\n",
       "      <td>SRS1105</td>\n",
       "      <td>50752.0</td>\n",
       "      <td>Bighorn Sheep</td>\n",
       "      <td>Female</td>\n",
       "      <td>2021-12-03</td>\n",
       "      <td>North San Rafael</td>\n",
       "      <td>Swinging Bridge</td>\n",
       "      <td>Recapture. Old collar: 75535, 148.307. 2 tonsi...</td>\n",
       "    </tr>\n",
       "  </tbody>\n",
       "</table>\n",
       "</div>"
      ],
      "text/plain": [
       "  sample_id  collar_id        species     sex capture_date      capture_unit  \\\n",
       "0   SRS1101    50750.0  Bighorn Sheep  Female   2021-12-03  North San Rafael   \n",
       "1   SRS1102    50744.0  Bighorn Sheep  Female   2021-12-04  North San Rafael   \n",
       "2   SRS1103    50749.0  Bighorn Sheep  Female   2021-12-03  North San Rafael   \n",
       "3   SRS1104    50758.0  Bighorn Sheep  Female   2021-12-04  North San Rafael   \n",
       "4   SRS1105    50752.0  Bighorn Sheep  Female   2021-12-03  North San Rafael   \n",
       "\n",
       "      staging_area                                           comments  \n",
       "0  Swinging Bridge      2 tonsillar swabs and 2 nasal swabs (SRS1101)  \n",
       "1  Swinging Bridge      2 tonsillar swabs and 2 nasal swabs (SRS1102)  \n",
       "2  Swinging Bridge  Short blood, veins flat, worried about heat. 2...  \n",
       "3  Swinging Bridge      2 tonsillar swabs and 2 nasal swabs (SRS1104)  \n",
       "4  Swinging Bridge  Recapture. Old collar: 75535, 148.307. 2 tonsi...  "
      ]
     },
     "execution_count": 2,
     "metadata": {},
     "output_type": "execute_result"
    }
   ],
   "source": [
    "#load bighorn sheep data\n",
    "sheep_table = pd.read_excel('data/Bighorn sheep_2021_22_Sample sheet.xlsx')\n",
    "sheep_table = panda_stripper(sheep_table)\n",
    "\n",
    "#rename columns\n",
    "sheep_table.columns = ['sample_id', 'collar_id', 'species', 'sex', 'capture_date', 'capture_unit', 'staging_area', 'comments']\n",
    "\n",
    "sheep_table.head()"
   ]
  },
  {
   "cell_type": "code",
   "execution_count": 3,
   "metadata": {},
   "outputs": [],
   "source": [
    "#load and strip table\n",
    "goat_table = pd.read_excel('data/Mt. Goat_2021_22_Sample sheet.xlsx')\n",
    "goat_table = panda_stripper(goat_table)\n",
    "\n",
    "#rename cols\n",
    "goat_table.columns = ['sample_id', 'collar_id', 'species', 'sex', 'capture_date', 'capture_unit', 'comments']"
   ]
  },
  {
   "cell_type": "code",
   "execution_count": 4,
   "metadata": {},
   "outputs": [],
   "source": [
    "#concat tables\n",
    "sheep_goat_table = pd.concat([sheep_table, goat_table])"
   ]
  },
  {
   "cell_type": "markdown",
   "metadata": {},
   "source": [
    "## Lab Results\n",
    "\n",
    "### m. ovi ELISA"
   ]
  },
  {
   "cell_type": "code",
   "execution_count": 5,
   "metadata": {},
   "outputs": [],
   "source": [
    "#read and strip table\n",
    "movi_elisa_df = pd.read_excel('data/sheep_goat_tables.xlsx', sheet_name='movi_elisa', usecols=[1,2,3])\n",
    "movi_elisa_df = panda_stripper(movi_elisa_df) \n",
    "\n",
    "#get sample_id and drop original col\n",
    "movi_elisa_df = get_sample_id(movi_elisa_df, 'Animal')\n",
    "del movi_elisa_df['Animal']\n",
    "\n",
    "#rename cols\n",
    "movi_elisa_df.columns = ['movi_elisa_val', 'movi_elisa_result', 'sample_id']\n",
    "\n",
    "#merge with sheep goat table\n",
    "sheep_goat_table = sheep_goat_table.merge(movi_elisa_df, on= 'sample_id', how='outer')"
   ]
  },
  {
   "cell_type": "markdown",
   "metadata": {},
   "source": [
    "### M. ovi PCR"
   ]
  },
  {
   "cell_type": "code",
   "execution_count": 6,
   "metadata": {},
   "outputs": [],
   "source": [
    "#read and strip tables\n",
    "movi_pcr_df = pd.read_excel('data/sheep_goat_tables.xlsx', sheet_name='movi_pcr', usecols=[0,2])\n",
    "movi_pcr_df = panda_stripper(movi_pcr_df)\n",
    "\n",
    "#get sample ids and drop original col\n",
    "movi_pcr_df = get_sample_id(movi_pcr_df, 'Animal')\n",
    "del movi_pcr_df['Animal']\n",
    "\n",
    "#rename cols\n",
    "movi_pcr_df.columns = ['movi_pcr_result', 'sample_id']\n",
    "\n",
    "#merge with sheep goat table\n",
    "sheep_goat_table = sheep_goat_table.merge(movi_pcr_df, on= 'sample_id', how='outer')"
   ]
  },
  {
   "cell_type": "markdown",
   "metadata": {},
   "source": [
    "### lentivirus"
   ]
  },
  {
   "cell_type": "code",
   "execution_count": 7,
   "metadata": {},
   "outputs": [],
   "source": [
    "#read and strip tables\n",
    "lentivirus_df = pd.read_excel('data/sheep_goat_tables.xlsx', sheet_name='lentivirus', usecols=[1,2,3])\n",
    "lentivirus_df = panda_stripper(lentivirus_df)\n",
    "\n",
    "#get sample id and drop original col\n",
    "lentivirus_df = get_sample_id(lentivirus_df, 'Animal')\n",
    "del lentivirus_df['Animal']\n",
    "\n",
    "#rename cols\n",
    "lentivirus_df.columns = ['lentivirus_val', 'lentivirus_result', 'sample_id']\n",
    "\n",
    "#merge with sheep goat table\n",
    "sheep_goat_table = sheep_goat_table.merge(lentivirus_df, on='sample_id', how='outer')"
   ]
  },
  {
   "cell_type": "markdown",
   "metadata": {},
   "source": [
    "### ehdv"
   ]
  },
  {
   "cell_type": "code",
   "execution_count": 8,
   "metadata": {},
   "outputs": [],
   "source": [
    "#read and strip tables\n",
    "ehdv_df = pd.read_excel('data/sheep_goat_tables.xlsx', sheet_name='ehdv', usecols=[1,2,3])\n",
    "ehdv_df = panda_stripper(ehdv_df)\n",
    "\n",
    "#get sample id and drop original col\n",
    "ehdv_df = get_sample_id(ehdv_df, 'Animal')\n",
    "del ehdv_df['Animal']\n",
    "\n",
    "#rename cols\n",
    "ehdv_df.columns = ['ehdv_val', 'ehdv_result', 'sample_id']\n",
    "\n",
    "#merge with sheep goat table\n",
    "sheep_goat_table = sheep_goat_table.merge(ehdv_df, on='sample_id', how='outer')"
   ]
  },
  {
   "cell_type": "markdown",
   "metadata": {},
   "source": [
    "### bluetongue"
   ]
  },
  {
   "cell_type": "code",
   "execution_count": 9,
   "metadata": {},
   "outputs": [],
   "source": [
    "#read and strip table\n",
    "bluetongue_df = pd.read_excel('data/sheep_goat_tables.xlsx', sheet_name='bluetongue', usecols=[1,2])\n",
    "bluetongue_df = panda_stripper(bluetongue_df)\n",
    "\n",
    "#get sample ids and delete original col\n",
    "bluetongue_df = get_sample_id(bluetongue_df, 'Animal')\n",
    "del bluetongue_df['Animal']\n",
    "\n",
    "#rename cols\n",
    "bluetongue_df.columns = ['bluetongue_result', 'sample_id']\n",
    "\n",
    "#clean results col\n",
    "bluetongue_df.bluetongue_result = bluetongue_df.bluetongue_result.apply(lambda row: 'Negative' if row.startswith('Neg') else 'Positive')\n",
    "\n",
    "#merge with sheep goats table\n",
    "sheep_goat_table = sheep_goat_table.merge(bluetongue_df, on='sample_id', how='outer')"
   ]
  },
  {
   "cell_type": "markdown",
   "metadata": {},
   "source": [
    "### Pasteurella leukotoxin lktA by PCR"
   ]
  },
  {
   "cell_type": "code",
   "execution_count": 10,
   "metadata": {},
   "outputs": [],
   "source": [
    "#read and strip tables\n",
    "lktA_df = pd.read_excel('data/sheep_goat_tables.xlsx', sheet_name='lktA_pcr', usecols=[0,2])\n",
    "lktA_df = panda_stripper(lktA_df)\n",
    "\n",
    "#get sample ids and drop original col\n",
    "lktA_df = get_sample_id(lktA_df, 'Animal')\n",
    "del lktA_df['Animal']\n",
    "\n",
    "#rename cols\n",
    "lktA_df.columns = ['leukotoxin_lktA_result', 'sample_id']\n",
    "\n",
    "#merge with sheep goats\n",
    "sheep_goat_table = sheep_goat_table.merge(lktA_df, on='sample_id', how='outer')\n"
   ]
  },
  {
   "cell_type": "markdown",
   "metadata": {},
   "source": [
    "### Aerobic Cultures\n",
    "\n",
    "SOP-BACT-2 for various bacteria "
   ]
  },
  {
   "cell_type": "code",
   "execution_count": 11,
   "metadata": {},
   "outputs": [],
   "source": [
    "#read and strip tables\n",
    "bact_df = pd.read_excel('data/sheep_goat_tables.xlsx', sheet_name='sop_bact_2', usecols=[0,2,3])\n",
    "bact_df = panda_stripper(bact_df)\n",
    "\n",
    "#get sample id and drop original col\n",
    "bact_df = get_sample_id(bact_df, 'Animal')\n",
    "del bact_df['Animal']\n",
    "\n",
    "#rename cols\n",
    "bact_df.columns = ['tonsular_culture_result', 'tonsular_culture_isolate', 'sample_id']\n",
    "\n",
    "#merge with sheet goats table\n",
    "sheep_goat_table = sheep_goat_table.merge(bact_df, on='sample_id', how='outer')"
   ]
  },
  {
   "cell_type": "markdown",
   "metadata": {},
   "source": [
    "## Load\n",
    "\n",
    "### Export excel sheet for DWR office"
   ]
  },
  {
   "cell_type": "code",
   "execution_count": 12,
   "metadata": {},
   "outputs": [],
   "source": [
    "sheep_goat_table.to_excel('data/finals/Big Horn and Mtn Goats 2021-2022 Lab Results.xlsx', index=False)"
   ]
  }
 ],
 "metadata": {
  "kernelspec": {
   "display_name": "rhi",
   "language": "python",
   "name": "python3"
  },
  "language_info": {
   "codemirror_mode": {
    "name": "ipython",
    "version": 3
   },
   "file_extension": ".py",
   "mimetype": "text/x-python",
   "name": "python",
   "nbconvert_exporter": "python",
   "pygments_lexer": "ipython3",
   "version": "3.11.5"
  },
  "orig_nbformat": 4
 },
 "nbformat": 4,
 "nbformat_minor": 2
}
