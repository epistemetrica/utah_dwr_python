{
 "cells": [
  {
   "cell_type": "code",
   "execution_count": 1,
   "metadata": {},
   "outputs": [],
   "source": [
    "#import libraries\n",
    "import pandas as pd\n",
    "import numpy as np\n",
    "import re\n",
    "\n",
    "#import functions\n",
    "from functions import get_sample_id\n",
    "from functions import panda_stripper"
   ]
  },
  {
   "cell_type": "markdown",
   "metadata": {},
   "source": [
    "## Extract and transform main table"
   ]
  },
  {
   "cell_type": "code",
   "execution_count": 2,
   "metadata": {},
   "outputs": [],
   "source": [
    "#read excel table and strip\n",
    "deer_table = pd.read_excel('data/Muledeer_2021_22_Sample sheet.xlsx', usecols=[0,1,2,3,4,5])\n",
    "deer_table = panda_stripper(deer_table)\n",
    "\n",
    "#rename columns\n",
    "deer_table.columns = ['sample_id', 'collar_id', 'species', 'sex', 'capture_date', 'capture_unit']"
   ]
  },
  {
   "cell_type": "code",
   "execution_count": 3,
   "metadata": {},
   "outputs": [
    {
     "data": {
      "text/html": [
       "<div>\n",
       "<style scoped>\n",
       "    .dataframe tbody tr th:only-of-type {\n",
       "        vertical-align: middle;\n",
       "    }\n",
       "\n",
       "    .dataframe tbody tr th {\n",
       "        vertical-align: top;\n",
       "    }\n",
       "\n",
       "    .dataframe thead th {\n",
       "        text-align: right;\n",
       "    }\n",
       "</style>\n",
       "<table border=\"1\" class=\"dataframe\">\n",
       "  <thead>\n",
       "    <tr style=\"text-align: right;\">\n",
       "      <th></th>\n",
       "      <th>sample_id</th>\n",
       "      <th>collar_id</th>\n",
       "      <th>species</th>\n",
       "      <th>sex</th>\n",
       "      <th>capture_date</th>\n",
       "      <th>capture_unit</th>\n",
       "    </tr>\n",
       "  </thead>\n",
       "  <tbody>\n",
       "    <tr>\n",
       "      <th>0</th>\n",
       "      <td>BC1101</td>\n",
       "      <td>50713</td>\n",
       "      <td>Mule Deer</td>\n",
       "      <td>Female</td>\n",
       "      <td>2021-12-11</td>\n",
       "      <td>Book Cliffs</td>\n",
       "    </tr>\n",
       "    <tr>\n",
       "      <th>1</th>\n",
       "      <td>BC1102</td>\n",
       "      <td>50716</td>\n",
       "      <td>Mule Deer</td>\n",
       "      <td>Female</td>\n",
       "      <td>2021-12-11</td>\n",
       "      <td>Book Cliffs</td>\n",
       "    </tr>\n",
       "    <tr>\n",
       "      <th>2</th>\n",
       "      <td>BC1103</td>\n",
       "      <td>50714</td>\n",
       "      <td>Mule Deer</td>\n",
       "      <td>Female</td>\n",
       "      <td>2021-12-11</td>\n",
       "      <td>Book Cliffs</td>\n",
       "    </tr>\n",
       "    <tr>\n",
       "      <th>3</th>\n",
       "      <td>BC1104</td>\n",
       "      <td>50720</td>\n",
       "      <td>Mule Deer</td>\n",
       "      <td>Female</td>\n",
       "      <td>2021-12-11</td>\n",
       "      <td>Book Cliffs</td>\n",
       "    </tr>\n",
       "    <tr>\n",
       "      <th>4</th>\n",
       "      <td>BC1105</td>\n",
       "      <td>50722</td>\n",
       "      <td>Mule Deer</td>\n",
       "      <td>Male</td>\n",
       "      <td>2021-12-11</td>\n",
       "      <td>Book Cliffs</td>\n",
       "    </tr>\n",
       "  </tbody>\n",
       "</table>\n",
       "</div>"
      ],
      "text/plain": [
       "  sample_id  collar_id    species     sex capture_date capture_unit\n",
       "0    BC1101      50713  Mule Deer  Female   2021-12-11  Book Cliffs\n",
       "1    BC1102      50716  Mule Deer  Female   2021-12-11  Book Cliffs\n",
       "2    BC1103      50714  Mule Deer  Female   2021-12-11  Book Cliffs\n",
       "3    BC1104      50720  Mule Deer  Female   2021-12-11  Book Cliffs\n",
       "4    BC1105      50722  Mule Deer    Male   2021-12-11  Book Cliffs"
      ]
     },
     "execution_count": 3,
     "metadata": {},
     "output_type": "execute_result"
    }
   ],
   "source": [
    "deer_table.head()"
   ]
  },
  {
   "cell_type": "markdown",
   "metadata": {},
   "source": [
    "## Extract and Transform Lab Results\n",
    "\n",
    "### Adenovirus"
   ]
  },
  {
   "cell_type": "code",
   "execution_count": 4,
   "metadata": {},
   "outputs": [],
   "source": [
    "#read and strip table\n",
    "adenovirus_df = pd.read_excel('data/deer_tables.xlsx', sheet_name='adenovirus')\n",
    "adenovirus_df = panda_stripper(adenovirus_df)\n",
    "\n",
    "#get sample id\n",
    "adenovirus_df = get_sample_id(adenovirus_df, 'sample_id')\n",
    "\n",
    "#combine result1 and result2 cols\n",
    "adenovirus_df['adenovirus_result'] = adenovirus_df.apply(lambda row: row['result1'] if row['result1'] is not np.NaN else row['result2'], axis=1)\n",
    "del adenovirus_df['result1']\n",
    "del adenovirus_df['result2']\n",
    "\n",
    "#trim \"Negative @\" result\n",
    "adenovirus_df['adenovirus_result'] = adenovirus_df['adenovirus_result'].apply(lambda row: row.split()[0])\n",
    "\n",
    "#merge with deer_table\n",
    "deer_table = deer_table.merge(adenovirus_df, on='sample_id', how='outer')"
   ]
  },
  {
   "cell_type": "markdown",
   "metadata": {},
   "source": [
    "### ehdv"
   ]
  },
  {
   "cell_type": "code",
   "execution_count": 5,
   "metadata": {},
   "outputs": [],
   "source": [
    "#read and strip table\n",
    "ehdv_df = pd.read_excel('data/deer_tables.xlsx', sheet_name='ehdv', usecols=[0,2])\n",
    "ehdv_df = panda_stripper(ehdv_df)\n",
    "\n",
    "#get sample_id and drop original col\n",
    "ehdv_df = get_sample_id(ehdv_df, 'Animals::Specimens')\n",
    "del ehdv_df['Animals::Specimens']\n",
    "\n",
    "#rename cols\n",
    "ehdv_df.columns = ['ehdv_result', 'sample_id']\n",
    "\n",
    "#merge with deer_table\n",
    "deer_table = deer_table.merge(ehdv_df, on='sample_id', how='outer')\n"
   ]
  },
  {
   "cell_type": "markdown",
   "metadata": {},
   "source": [
    "### bluetongue"
   ]
  },
  {
   "cell_type": "code",
   "execution_count": 6,
   "metadata": {},
   "outputs": [],
   "source": [
    "#read and strip table\n",
    "bluetongue_df = pd.read_excel('data/deer_tables.xlsx', sheet_name='bluetongue')\n",
    "bluetongue_df = panda_stripper(bluetongue_df)\n",
    "\n",
    "#get sample_id and drop original col\n",
    "bluetongue_df = get_sample_id(bluetongue_df, 'specimen')\n",
    "del bluetongue_df['specimen']\n",
    "\n",
    "#rename cols\n",
    "bluetongue_df.columns = ['bluetongue_result', 'sample_id']\n",
    "\n",
    "#merge with deer_table\n",
    "deer_table = deer_table.merge(bluetongue_df, on='sample_id', how='outer')"
   ]
  },
  {
   "cell_type": "markdown",
   "metadata": {},
   "source": [
    "## Load\n",
    "\n",
    "### Save to .xlsx file"
   ]
  },
  {
   "cell_type": "code",
   "execution_count": 7,
   "metadata": {},
   "outputs": [],
   "source": [
    "deer_table.to_excel('data/finals/Mule Deer 2021-2022 Lab Results.xlsx', index=False)"
   ]
  }
 ],
 "metadata": {
  "kernelspec": {
   "display_name": "rhi",
   "language": "python",
   "name": "python3"
  },
  "language_info": {
   "codemirror_mode": {
    "name": "ipython",
    "version": 3
   },
   "file_extension": ".py",
   "mimetype": "text/x-python",
   "name": "python",
   "nbconvert_exporter": "python",
   "pygments_lexer": "ipython3",
   "version": "3.11.5"
  },
  "orig_nbformat": 4
 },
 "nbformat": 4,
 "nbformat_minor": 2
}
