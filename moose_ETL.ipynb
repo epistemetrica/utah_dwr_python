{
 "cells": [
  {
   "cell_type": "markdown",
   "metadata": {},
   "source": [
    "# ETL notebook for moose lab results"
   ]
  },
  {
   "cell_type": "code",
   "execution_count": 1,
   "metadata": {},
   "outputs": [],
   "source": [
    "#import libraries\n",
    "import pandas as pd\n",
    "import numpy as np\n",
    "import re\n",
    "\n",
    "#import functions\n",
    "from functions import get_sample_id\n",
    "from functions import panda_stripper"
   ]
  },
  {
   "cell_type": "markdown",
   "metadata": {},
   "source": [
    "## Extract and transform main table"
   ]
  },
  {
   "cell_type": "code",
   "execution_count": 2,
   "metadata": {},
   "outputs": [],
   "source": [
    "#read excel table and strip\n",
    "moose_table = pd.read_excel('data/Moose_2021_22_Sample sheet.xlsx', skiprows=range(6,11))\n",
    "moose_table = panda_stripper(moose_table)\n",
    "\n",
    "#rename cols\n",
    "moose_table.columns = ['sample_id', 'collar_id', 'species', 'sex', 'capture_date', 'capture_unit', 'staging_area']"
   ]
  },
  {
   "cell_type": "code",
   "execution_count": 3,
   "metadata": {},
   "outputs": [
    {
     "data": {
      "text/html": [
       "<div>\n",
       "<style scoped>\n",
       "    .dataframe tbody tr th:only-of-type {\n",
       "        vertical-align: middle;\n",
       "    }\n",
       "\n",
       "    .dataframe tbody tr th {\n",
       "        vertical-align: top;\n",
       "    }\n",
       "\n",
       "    .dataframe thead th {\n",
       "        text-align: right;\n",
       "    }\n",
       "</style>\n",
       "<table border=\"1\" class=\"dataframe\">\n",
       "  <thead>\n",
       "    <tr style=\"text-align: right;\">\n",
       "      <th></th>\n",
       "      <th>sample_id</th>\n",
       "      <th>collar_id</th>\n",
       "      <th>species</th>\n",
       "      <th>sex</th>\n",
       "      <th>capture_date</th>\n",
       "      <th>capture_unit</th>\n",
       "      <th>staging_area</th>\n",
       "    </tr>\n",
       "  </thead>\n",
       "  <tbody>\n",
       "    <tr>\n",
       "      <th>0</th>\n",
       "      <td>PAR1111</td>\n",
       "      <td>50888</td>\n",
       "      <td>Moose</td>\n",
       "      <td>Female</td>\n",
       "      <td>2021-12-19</td>\n",
       "      <td>Parley's Summit</td>\n",
       "      <td>Little Dell Reservoir</td>\n",
       "    </tr>\n",
       "    <tr>\n",
       "      <th>1</th>\n",
       "      <td>PAR1112</td>\n",
       "      <td>50891</td>\n",
       "      <td>Moose</td>\n",
       "      <td>Female</td>\n",
       "      <td>2021-12-19</td>\n",
       "      <td>Parley's Summit</td>\n",
       "      <td>Little Dell Reservoir</td>\n",
       "    </tr>\n",
       "    <tr>\n",
       "      <th>2</th>\n",
       "      <td>PAR1113</td>\n",
       "      <td>50892</td>\n",
       "      <td>Moose</td>\n",
       "      <td>Female</td>\n",
       "      <td>2021-12-19</td>\n",
       "      <td>Parley's Summit</td>\n",
       "      <td>Little Dell Reservoir</td>\n",
       "    </tr>\n",
       "    <tr>\n",
       "      <th>3</th>\n",
       "      <td>PAR1114</td>\n",
       "      <td>50890</td>\n",
       "      <td>Moose</td>\n",
       "      <td>Female</td>\n",
       "      <td>2021-12-19</td>\n",
       "      <td>Parley's Summit</td>\n",
       "      <td>Little Dell Reservoir</td>\n",
       "    </tr>\n",
       "    <tr>\n",
       "      <th>4</th>\n",
       "      <td>PAR1115</td>\n",
       "      <td>50889</td>\n",
       "      <td>Moose</td>\n",
       "      <td>Female</td>\n",
       "      <td>2021-12-19</td>\n",
       "      <td>Parley's Summit</td>\n",
       "      <td>Little Dell Reservoir</td>\n",
       "    </tr>\n",
       "  </tbody>\n",
       "</table>\n",
       "</div>"
      ],
      "text/plain": [
       "  sample_id  collar_id species     sex capture_date     capture_unit  \\\n",
       "0   PAR1111      50888   Moose  Female   2021-12-19  Parley's Summit   \n",
       "1   PAR1112      50891   Moose  Female   2021-12-19  Parley's Summit   \n",
       "2   PAR1113      50892   Moose  Female   2021-12-19  Parley's Summit   \n",
       "3   PAR1114      50890   Moose  Female   2021-12-19  Parley's Summit   \n",
       "4   PAR1115      50889   Moose  Female   2021-12-19  Parley's Summit   \n",
       "\n",
       "            staging_area  \n",
       "0  Little Dell Reservoir  \n",
       "1  Little Dell Reservoir  \n",
       "2  Little Dell Reservoir  \n",
       "3  Little Dell Reservoir  \n",
       "4  Little Dell Reservoir  "
      ]
     },
     "execution_count": 3,
     "metadata": {},
     "output_type": "execute_result"
    }
   ],
   "source": [
    "moose_table"
   ]
  },
  {
   "cell_type": "markdown",
   "metadata": {},
   "source": [
    "### Pregnancy"
   ]
  },
  {
   "cell_type": "code",
   "execution_count": 4,
   "metadata": {},
   "outputs": [],
   "source": [
    "#read and stip table\n",
    "preg_df = pd.read_excel('data/moose_tables.xlsx', sheet_name='pregnant', usecols=[1,2,3])\n",
    "preg_df = panda_stripper(preg_df)\n",
    "\n",
    "#rename cols\n",
    "preg_df.columns = ['sample_id', 'preg_OD_val', 'preg_result']\n",
    "\n",
    "#merge with main table\n",
    "moose_table = moose_table.merge(preg_df, on='sample_id', how='outer')\n"
   ]
  },
  {
   "cell_type": "markdown",
   "metadata": {},
   "source": [
    "### Bluetongue"
   ]
  },
  {
   "cell_type": "code",
   "execution_count": 5,
   "metadata": {},
   "outputs": [],
   "source": [
    "#read and strip table\n",
    "bluetongue_df = pd.read_excel('data/moose_tables.xlsx', sheet_name='bluetongue') \n",
    "bluetongue_df = panda_stripper(bluetongue_df)\n",
    "\n",
    "#get sample ids and drop original col\n",
    "bluetongue_df = get_sample_id(bluetongue_df, 'Specimen')\n",
    "del bluetongue_df['Specimen']\n",
    "\n",
    "#rename cols \n",
    "bluetongue_df.columns = ['bluetongue_result', 'sample_id']\n",
    "\n",
    "#merge with main table\n",
    "moose_table = moose_table.merge(bluetongue_df, on='sample_id', how='outer')\n"
   ]
  },
  {
   "cell_type": "markdown",
   "metadata": {},
   "source": [
    "## Load\n",
    "\n",
    "### Export to excel for office use"
   ]
  },
  {
   "cell_type": "code",
   "execution_count": 6,
   "metadata": {},
   "outputs": [],
   "source": [
    "moose_table.to_excel('data/finals/Moose 2021-2022 Lab Results.xlsx', index=False)"
   ]
  }
 ],
 "metadata": {
  "kernelspec": {
   "display_name": "rhi",
   "language": "python",
   "name": "python3"
  },
  "language_info": {
   "codemirror_mode": {
    "name": "ipython",
    "version": 3
   },
   "file_extension": ".py",
   "mimetype": "text/x-python",
   "name": "python",
   "nbconvert_exporter": "python",
   "pygments_lexer": "ipython3",
   "version": "3.11.5"
  },
  "orig_nbformat": 4
 },
 "nbformat": 4,
 "nbformat_minor": 2
}
