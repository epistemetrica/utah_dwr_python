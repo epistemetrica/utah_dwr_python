{
 "cells": [
  {
   "cell_type": "markdown",
   "metadata": {},
   "source": [
    "# Pronghorn ETL"
   ]
  },
  {
   "cell_type": "code",
   "execution_count": 2,
   "metadata": {},
   "outputs": [],
   "source": [
    "#import libraries\n",
    "import pandas as pd\n",
    "import numpy as np\n",
    "import re\n",
    "\n",
    "#import functions\n",
    "from functions import get_sample_id\n",
    "from functions import panda_stripper"
   ]
  },
  {
   "cell_type": "markdown",
   "metadata": {},
   "source": [
    "## Extract and transform main table"
   ]
  },
  {
   "cell_type": "code",
   "execution_count": 8,
   "metadata": {},
   "outputs": [],
   "source": [
    "#read and strip main table\n",
    "pronghorn_table = pd.read_excel('data/Pronghorn_2021_22_Sample sheet.xlsx', usecols=range(0,8))\n",
    "pronghorn_table = panda_stripper(pronghorn_table)\n",
    "\n",
    "#rename cols\n",
    "pronghorn_table.columns = ['sample_id', 'archive_id', 'collar_id', 'species', 'sex', 'capture_date', 'capture_unit', 'staging_area']"
   ]
  },
  {
   "cell_type": "markdown",
   "metadata": {},
   "source": [
    "## Lab Results\n",
    "\n",
    "### bluetongue"
   ]
  },
  {
   "cell_type": "code",
   "execution_count": 14,
   "metadata": {},
   "outputs": [],
   "source": [
    "#read and strip table\n",
    "bt_df = pd.read_excel('data/pronghorn_tables.xlsx', sheet_name='bluetongue')\n",
    "bt_df = panda_stripper(bt_df)\n",
    "\n",
    "#get sample ids\n",
    "bt_df.specimen = bt_df.specimen.apply(lambda row: re.split(r\"\\s|/\", row)[0])\n",
    "\n",
    "#rename cols\n",
    "bt_df.columns = ['sample_id', 'bluetongue_result']\n",
    "\n",
    "#merge with main table\n",
    "pronghorn_table = pronghorn_table.merge(bt_df, on='sample_id', how='outer')"
   ]
  },
  {
   "cell_type": "markdown",
   "metadata": {},
   "source": [
    "### fecal"
   ]
  },
  {
   "cell_type": "code",
   "execution_count": 16,
   "metadata": {},
   "outputs": [],
   "source": [
    "fecal_df = pd.read_excel('data/pronghorn_tables.xlsx', sheet_name='fecal')"
   ]
  },
  {
   "cell_type": "code",
   "execution_count": 15,
   "metadata": {},
   "outputs": [
    {
     "data": {
      "text/html": [
       "<div>\n",
       "<style scoped>\n",
       "    .dataframe tbody tr th:only-of-type {\n",
       "        vertical-align: middle;\n",
       "    }\n",
       "\n",
       "    .dataframe tbody tr th {\n",
       "        vertical-align: top;\n",
       "    }\n",
       "\n",
       "    .dataframe thead th {\n",
       "        text-align: right;\n",
       "    }\n",
       "</style>\n",
       "<table border=\"1\" class=\"dataframe\">\n",
       "  <thead>\n",
       "    <tr style=\"text-align: right;\">\n",
       "      <th></th>\n",
       "      <th>sample_id</th>\n",
       "      <th>archive_id</th>\n",
       "      <th>collar_id</th>\n",
       "      <th>species</th>\n",
       "      <th>sex</th>\n",
       "      <th>capture_date</th>\n",
       "      <th>capture_unit</th>\n",
       "      <th>staging_area</th>\n",
       "      <th>bluetongue_result</th>\n",
       "    </tr>\n",
       "  </thead>\n",
       "  <tbody>\n",
       "    <tr>\n",
       "      <th>0</th>\n",
       "      <td>BCP1101</td>\n",
       "      <td>PH21-001</td>\n",
       "      <td>50770.0</td>\n",
       "      <td>Pronghorn</td>\n",
       "      <td>Female</td>\n",
       "      <td>2021-12-01</td>\n",
       "      <td>Book Cliffs</td>\n",
       "      <td>Danish Flat</td>\n",
       "      <td>Detected</td>\n",
       "    </tr>\n",
       "    <tr>\n",
       "      <th>1</th>\n",
       "      <td>BCP1102</td>\n",
       "      <td>PH21-002</td>\n",
       "      <td>50776.0</td>\n",
       "      <td>Pronghorn</td>\n",
       "      <td>Female</td>\n",
       "      <td>2021-12-01</td>\n",
       "      <td>Book Cliffs</td>\n",
       "      <td>Danish Flat</td>\n",
       "      <td>NaN</td>\n",
       "    </tr>\n",
       "    <tr>\n",
       "      <th>2</th>\n",
       "      <td>BCP1103</td>\n",
       "      <td>PH21-003</td>\n",
       "      <td>50769.0</td>\n",
       "      <td>Pronghorn</td>\n",
       "      <td>Female</td>\n",
       "      <td>2021-12-01</td>\n",
       "      <td>Book Cliffs</td>\n",
       "      <td>Danish Flat</td>\n",
       "      <td>Detected</td>\n",
       "    </tr>\n",
       "    <tr>\n",
       "      <th>3</th>\n",
       "      <td>BCP1104</td>\n",
       "      <td>PH21-015</td>\n",
       "      <td>50768.0</td>\n",
       "      <td>Pronghorn</td>\n",
       "      <td>Male</td>\n",
       "      <td>2021-12-01</td>\n",
       "      <td>Book Cliffs</td>\n",
       "      <td>Danish Flat</td>\n",
       "      <td>Detected</td>\n",
       "    </tr>\n",
       "    <tr>\n",
       "      <th>4</th>\n",
       "      <td>BCP1105</td>\n",
       "      <td>PH21-004</td>\n",
       "      <td>50774.0</td>\n",
       "      <td>Pronghorn</td>\n",
       "      <td>Female</td>\n",
       "      <td>2021-12-01</td>\n",
       "      <td>Book Cliffs</td>\n",
       "      <td>Danish Flat</td>\n",
       "      <td>Detected</td>\n",
       "    </tr>\n",
       "  </tbody>\n",
       "</table>\n",
       "</div>"
      ],
      "text/plain": [
       "  sample_id archive_id  collar_id    species     sex capture_date  \\\n",
       "0   BCP1101   PH21-001    50770.0  Pronghorn  Female   2021-12-01   \n",
       "1   BCP1102   PH21-002    50776.0  Pronghorn  Female   2021-12-01   \n",
       "2   BCP1103   PH21-003    50769.0  Pronghorn  Female   2021-12-01   \n",
       "3   BCP1104   PH21-015    50768.0  Pronghorn    Male   2021-12-01   \n",
       "4   BCP1105   PH21-004    50774.0  Pronghorn  Female   2021-12-01   \n",
       "\n",
       "  capture_unit staging_area bluetongue_result  \n",
       "0  Book Cliffs  Danish Flat          Detected  \n",
       "1  Book Cliffs  Danish Flat               NaN  \n",
       "2  Book Cliffs  Danish Flat          Detected  \n",
       "3  Book Cliffs  Danish Flat          Detected  \n",
       "4  Book Cliffs  Danish Flat          Detected  "
      ]
     },
     "execution_count": 15,
     "metadata": {},
     "output_type": "execute_result"
    }
   ],
   "source": [
    "pronghorn_table.head()"
   ]
  },
  {
   "cell_type": "markdown",
   "metadata": {},
   "source": [
    "## Load\n",
    "\n",
    "### Export to excel file for office use"
   ]
  },
  {
   "cell_type": "code",
   "execution_count": 17,
   "metadata": {},
   "outputs": [],
   "source": [
    "pronghorn_table.to_excel('data/finals/Pronghorn 2021-2022 Lab Results.xlsx', index=False)"
   ]
  }
 ],
 "metadata": {
  "kernelspec": {
   "display_name": "rhi",
   "language": "python",
   "name": "python3"
  },
  "language_info": {
   "codemirror_mode": {
    "name": "ipython",
    "version": 3
   },
   "file_extension": ".py",
   "mimetype": "text/x-python",
   "name": "python",
   "nbconvert_exporter": "python",
   "pygments_lexer": "ipython3",
   "version": "3.11.5"
  },
  "orig_nbformat": 4
 },
 "nbformat": 4,
 "nbformat_minor": 2
}
