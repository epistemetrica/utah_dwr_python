{
 "cells": [
  {
   "cell_type": "markdown",
   "metadata": {},
   "source": [
    "# ETL Pipeline for Bison Data\n",
    "\n",
    "This notebook cleans lab results data for various blood tests performed on wild bison in the State of Utah. Raw data is in .xlsx format with individual sheets for each test, having been extracted with Tabula from PDF results provided by the lab. Future improvements to this pipeline could include extracting directly from the PDF using python libraries. \n",
    "\n",
    "Clean data is organized into a single table, exported to .xlsx for use by the Utah Division of Wildlife Resources, and loaded into a multi-species SQLite database for future data analysis. "
   ]
  },
  {
   "cell_type": "code",
   "execution_count": 1,
   "metadata": {},
   "outputs": [],
   "source": [
    "#import libraries\n",
    "import pandas as pd\n",
    "import numpy as np\n",
    "import re"
   ]
  },
  {
   "cell_type": "code",
   "execution_count": 2,
   "metadata": {},
   "outputs": [],
   "source": [
    "#define handy functions\n",
    "\n",
    "def panda_stripper(df):\n",
    "    '''Strips all string columns in a pandas dataframe, in place. Seems like this should already be a pd method, but whatever.'''\n",
    "    df_obj = df.select_dtypes(['object'])\n",
    "    df[df_obj.columns] = df_obj.apply(lambda row: row.str.strip())\n",
    "    return df\n",
    "\n",
    "def get_sample_id(df, column):\n",
    "    '''\n",
    "    Extracts sample_id from a df column. \n",
    "    INPUT: df, column name\n",
    "    Expected format: \"BCB111 / BIS21-027 :: Serum\"\n",
    "    Action: splits string by whitespace or commas and returns first element of string\n",
    "    OUTPUT: adds df column named 'sample_id' with the returned value in each cell\n",
    "    '''\n",
    "    df['sample_id'] = df[column].apply(lambda row: re.split(r\"\\s|,\", row)[0])\n",
    "    return df\n"
   ]
  },
  {
   "cell_type": "markdown",
   "metadata": {},
   "source": [
    "## Read in Sample Sheet\n",
    "\n",
    "The \"Sample Sheet\" provided by the DWR is the primary index of capture samples, and lab results data will be merged into this sheet based on the Sample ID."
   ]
  },
  {
   "cell_type": "code",
   "execution_count": 3,
   "metadata": {},
   "outputs": [],
   "source": [
    "#read sample sheet; this will be the final table \n",
    "bison_table = pd.read_excel('data/Bison_2021_22_Sample sheet.xlsx', usecols=[0, 1, 2, 3, 4, 5])\n",
    "\n",
    "#give pythonic columns names\n",
    "bison_table.columns = ['sample_id', 'archive_id', 'species', 'sex', 'capture_date', 'capture_unit']\n",
    "\n",
    "#strip strings\n",
    "bison_table = panda_stripper(bison_table)"
   ]
  },
  {
   "cell_type": "code",
   "execution_count": 4,
   "metadata": {},
   "outputs": [
    {
     "data": {
      "text/html": [
       "<div>\n",
       "<style scoped>\n",
       "    .dataframe tbody tr th:only-of-type {\n",
       "        vertical-align: middle;\n",
       "    }\n",
       "\n",
       "    .dataframe tbody tr th {\n",
       "        vertical-align: top;\n",
       "    }\n",
       "\n",
       "    .dataframe thead th {\n",
       "        text-align: right;\n",
       "    }\n",
       "</style>\n",
       "<table border=\"1\" class=\"dataframe\">\n",
       "  <thead>\n",
       "    <tr style=\"text-align: right;\">\n",
       "      <th></th>\n",
       "      <th>sample_id</th>\n",
       "      <th>archive_id</th>\n",
       "      <th>species</th>\n",
       "      <th>sex</th>\n",
       "      <th>capture_date</th>\n",
       "      <th>capture_unit</th>\n",
       "    </tr>\n",
       "  </thead>\n",
       "  <tbody>\n",
       "    <tr>\n",
       "      <th>0</th>\n",
       "      <td>BCB1101</td>\n",
       "      <td>BIS21-018</td>\n",
       "      <td>Bison</td>\n",
       "      <td>Female</td>\n",
       "      <td>2022-02-27</td>\n",
       "      <td>Book Cliffs</td>\n",
       "    </tr>\n",
       "    <tr>\n",
       "      <th>1</th>\n",
       "      <td>BCB1102</td>\n",
       "      <td>BIS21-019</td>\n",
       "      <td>Bison</td>\n",
       "      <td>Female</td>\n",
       "      <td>2022-02-26</td>\n",
       "      <td>Book Cliffs</td>\n",
       "    </tr>\n",
       "    <tr>\n",
       "      <th>2</th>\n",
       "      <td>BCB1103</td>\n",
       "      <td>BIS21-020</td>\n",
       "      <td>Bison</td>\n",
       "      <td>Female</td>\n",
       "      <td>2022-02-27</td>\n",
       "      <td>Book Cliffs</td>\n",
       "    </tr>\n",
       "    <tr>\n",
       "      <th>3</th>\n",
       "      <td>BCB1104</td>\n",
       "      <td>BIS21-021</td>\n",
       "      <td>Bison</td>\n",
       "      <td>Female</td>\n",
       "      <td>2022-02-26</td>\n",
       "      <td>Book Cliffs</td>\n",
       "    </tr>\n",
       "    <tr>\n",
       "      <th>4</th>\n",
       "      <td>BCB1105</td>\n",
       "      <td>BIS21-022</td>\n",
       "      <td>Bison</td>\n",
       "      <td>Male</td>\n",
       "      <td>2022-02-26</td>\n",
       "      <td>Book Cliffs</td>\n",
       "    </tr>\n",
       "  </tbody>\n",
       "</table>\n",
       "</div>"
      ],
      "text/plain": [
       "  sample_id archive_id species     sex capture_date capture_unit\n",
       "0   BCB1101  BIS21-018   Bison  Female   2022-02-27  Book Cliffs\n",
       "1   BCB1102  BIS21-019   Bison  Female   2022-02-26  Book Cliffs\n",
       "2   BCB1103  BIS21-020   Bison  Female   2022-02-27  Book Cliffs\n",
       "3   BCB1104  BIS21-021   Bison  Female   2022-02-26  Book Cliffs\n",
       "4   BCB1105  BIS21-022   Bison    Male   2022-02-26  Book Cliffs"
      ]
     },
     "execution_count": 4,
     "metadata": {},
     "output_type": "execute_result"
    }
   ],
   "source": [
    "bison_table.head()"
   ]
  },
  {
   "cell_type": "markdown",
   "metadata": {},
   "source": [
    "## Lab Results\n",
    "\n",
    "### BVD Tests\n",
    "\n",
    "Two tests were performed for Bovine Diarrhea Virus: Type 1 and Type 2. "
   ]
  },
  {
   "cell_type": "code",
   "execution_count": 5,
   "metadata": {},
   "outputs": [],
   "source": [
    "#read excel table and strip strings\n",
    "bvd_type1_df = pd.read_excel('data/bison_tables.xlsx', sheet_name='bd_diarrhea_type1a', usecols=[0,2])\n",
    "bvd_type1_df = panda_stripper(bvd_type1_df)\n",
    "\n",
    "#get sample_id\n",
    "bvd_type1_df = get_sample_id(bvd_type1_df, 'Animals::Specimens')\n",
    "\n",
    "#drop 'Animals::Specimens' column\n",
    "del bvd_type1_df['Animals::Specimens']\n",
    "\n",
    "#reorder columns\n",
    "bvd_type1_df = bvd_type1_df.reindex(columns=['sample_id', 'Titer'])\n",
    "\n",
    "#rename columns\n",
    "bvd_type1_df.columns = ['sample_id', 'bvd_type1_result']\n",
    "\n",
    "#merge into main table\n",
    "bison_table = bison_table.merge(bvd_type1_df, on= 'sample_id')"
   ]
  },
  {
   "cell_type": "code",
   "execution_count": 6,
   "metadata": {},
   "outputs": [],
   "source": [
    "#load bvd type 2 tests and strip strings\n",
    "bvd_type2_df = pd.read_excel('data/bison_tables.xlsx', sheet_name='bv_diarrhea_type2', usecols= [0,2])\n",
    "bvd_type2_df = panda_stripper(bvd_type2_df)\n",
    "\n",
    "#get sample_id\n",
    "bvd_type2_df = get_sample_id(bvd_type2_df, 'Animals::Specimens')\n",
    "\n",
    "#drop 'Animals::Specimens' column\n",
    "del bvd_type2_df['Animals::Specimens']\n",
    "\n",
    "#reorder columns\n",
    "bvd_type2_df = bvd_type2_df.reindex(columns= ['sample_id', 'Titer'])\n",
    "\n",
    "#rename columns\n",
    "bvd_type2_df.columns = ['sample_id', 'bvd_type2_result']\n",
    "\n",
    "#merge into main table\n",
    "bison_table = bison_table.merge(bvd_type2_df, on= 'sample_id')"
   ]
  },
  {
   "cell_type": "markdown",
   "metadata": {},
   "source": [
    "### EHDV Tests\n",
    "\n",
    "Epizootic Hemorhagic Disease Virus Tests "
   ]
  },
  {
   "cell_type": "code",
   "execution_count": 7,
   "metadata": {},
   "outputs": [
    {
     "data": {
      "text/html": [
       "<div>\n",
       "<style scoped>\n",
       "    .dataframe tbody tr th:only-of-type {\n",
       "        vertical-align: middle;\n",
       "    }\n",
       "\n",
       "    .dataframe tbody tr th {\n",
       "        vertical-align: top;\n",
       "    }\n",
       "\n",
       "    .dataframe thead th {\n",
       "        text-align: right;\n",
       "    }\n",
       "</style>\n",
       "<table border=\"1\" class=\"dataframe\">\n",
       "  <thead>\n",
       "    <tr style=\"text-align: right;\">\n",
       "      <th></th>\n",
       "      <th>Animals::Specimens</th>\n",
       "      <th>Result</th>\n",
       "    </tr>\n",
       "  </thead>\n",
       "  <tbody>\n",
       "    <tr>\n",
       "      <th>0</th>\n",
       "      <td>BCB1101 / BIS21-018</td>\n",
       "      <td>Positive</td>\n",
       "    </tr>\n",
       "    <tr>\n",
       "      <th>1</th>\n",
       "      <td>:: Serum</td>\n",
       "      <td>NaN</td>\n",
       "    </tr>\n",
       "    <tr>\n",
       "      <th>2</th>\n",
       "      <td>BCB1102 / BIS21-019</td>\n",
       "      <td>Negative</td>\n",
       "    </tr>\n",
       "    <tr>\n",
       "      <th>3</th>\n",
       "      <td>:: Serum</td>\n",
       "      <td>NaN</td>\n",
       "    </tr>\n",
       "    <tr>\n",
       "      <th>4</th>\n",
       "      <td>BCB1103 / BIS21-020</td>\n",
       "      <td>Negative</td>\n",
       "    </tr>\n",
       "  </tbody>\n",
       "</table>\n",
       "</div>"
      ],
      "text/plain": [
       "    Animals::Specimens    Result\n",
       "0  BCB1101 / BIS21-018  Positive\n",
       "1             :: Serum       NaN\n",
       "2  BCB1102 / BIS21-019  Negative\n",
       "3             :: Serum       NaN\n",
       "4  BCB1103 / BIS21-020  Negative"
      ]
     },
     "execution_count": 7,
     "metadata": {},
     "output_type": "execute_result"
    }
   ],
   "source": [
    "#load data and strip\n",
    "ehdv_df = pd.read_excel('data/bison_tables.xlsx', sheet_name='ehdv', usecols=[0,2])\n",
    "ehdv_df = panda_stripper(ehdv_df)\n",
    "ehdv_df.head()"
   ]
  },
  {
   "cell_type": "code",
   "execution_count": 8,
   "metadata": {},
   "outputs": [],
   "source": [
    "#drop extra rows\n",
    "ehdv_df = ehdv_df.drop(ehdv_df[ehdv_df['Animals::Specimens'] == ':: Serum'].index)\n",
    "\n",
    "#get sample_id\n",
    "ehdv_df = get_sample_id(ehdv_df, 'Animals::Specimens')\n",
    "\n",
    "#drop animals/specimens colums\n",
    "del ehdv_df['Animals::Specimens']\n",
    "\n",
    "#reorder columns\n",
    "ehdv_df = ehdv_df.reindex(columns= ['sample_id', 'Result'])\n",
    "\n",
    "#rename columns\n",
    "ehdv_df.columns = ['sample_id', 'ehdv_result']\n",
    "\n",
    "#merge into bison_table\n",
    "bison_table = bison_table.merge(ehdv_df, on= 'sample_id')"
   ]
  },
  {
   "cell_type": "markdown",
   "metadata": {},
   "source": [
    "### Bluetongue and Pregnancy\n",
    "\n",
    "Bluetonge ELISA and Pregnancy ELISA tests are reported on the same table\n"
   ]
  },
  {
   "cell_type": "code",
   "execution_count": 9,
   "metadata": {},
   "outputs": [],
   "source": [
    "#load and strip\n",
    "bluepreg_df = pd.read_excel('data/bison_tables.xlsx', sheet_name='bluetongue')\n",
    "bluepreg_df = panda_stripper(bluepreg_df)\n",
    "\n",
    "#name columns\n",
    "bluepreg_df.columns = ['animal', 'preg_val', 'preg_result', 'bluetongue_result']\n",
    "\n",
    "#get sample_id\n",
    "bluepreg_df = get_sample_id(bluepreg_df, 'animal')\n",
    "\n",
    "#drop animal col\n",
    "del bluepreg_df['animal']\n",
    "\n",
    "#merge into bison_table\n",
    "bison_table = bison_table.merge(bluepreg_df, on= 'sample_id')"
   ]
  },
  {
   "cell_type": "markdown",
   "metadata": {},
   "source": [
    "## Load\n",
    "\n",
    "### Save to MS Excel file for DWR Vet Office"
   ]
  },
  {
   "cell_type": "code",
   "execution_count": 18,
   "metadata": {},
   "outputs": [],
   "source": [
    "#bison_table.to_excel('data/finals/Bison 2021-2022 Lab Results.xlsx')"
   ]
  },
  {
   "cell_type": "markdown",
   "metadata": {},
   "source": [
    "### Create database and load bison table"
   ]
  },
  {
   "cell_type": "code",
   "execution_count": null,
   "metadata": {},
   "outputs": [],
   "source": []
  }
 ],
 "metadata": {
  "kernelspec": {
   "display_name": "rhi",
   "language": "python",
   "name": "python3"
  },
  "language_info": {
   "codemirror_mode": {
    "name": "ipython",
    "version": 3
   },
   "file_extension": ".py",
   "mimetype": "text/x-python",
   "name": "python",
   "nbconvert_exporter": "python",
   "pygments_lexer": "ipython3",
   "version": "3.11.5"
  },
  "orig_nbformat": 4
 },
 "nbformat": 4,
 "nbformat_minor": 2
}
